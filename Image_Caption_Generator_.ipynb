{
  "nbformat": 4,
  "nbformat_minor": 0,
  "metadata": {
    "colab": {
      "name": "Image Caption Generator_.ipynb",
      "provenance": [],
      "mount_file_id": "1k9weDw09S57U-pFZRTMgfCvvo1a_w9ye",
      "authorship_tag": "ABX9TyNTgaEnu8QddnT9fRH+de8K",
      "include_colab_link": true
    },
    "kernelspec": {
      "name": "python3",
      "display_name": "Python 3"
    },
    "language_info": {
      "name": "python"
    }
  },
  "cells": [
    {
      "cell_type": "markdown",
      "metadata": {
        "id": "view-in-github",
        "colab_type": "text"
      },
      "source": [
        "<a href=\"https://colab.research.google.com/github/SakshamSoni-code/Image-Caption-Generator/blob/main/Image_Caption_Generator_.ipynb\" target=\"_parent\"><img src=\"https://colab.research.google.com/assets/colab-badge.svg\" alt=\"Open In Colab\"/></a>"
      ]
    },
    {
      "cell_type": "code",
      "metadata": {
        "id": "71fx-U_JH0-4",
        "colab": {
          "base_uri": "https://localhost:8080/"
        },
        "outputId": "49fb921e-6161-4056-ed62-3a083bb3c5a8"
      },
      "source": [
        "from google.colab import drive\n",
        "drive.mount('/content/drive/')"
      ],
      "execution_count": null,
      "outputs": [
        {
          "output_type": "stream",
          "name": "stdout",
          "text": [
            "Mounted at /content/drive/\n"
          ]
        }
      ]
    },
    {
      "cell_type": "markdown",
      "metadata": {
        "id": "ZgNPipmyaUga"
      },
      "source": [
        "**STEPS**\n",
        "\n",
        "\n",
        "1.   Data collection\n",
        "2.   Understanding the data\n",
        "3.   Data Cleaning\n",
        "4.   Loading the training set\n",
        "5.   Data Preprocessing — Images\n",
        "6.   Data Preprocessing — Captions\n",
        "7.   Data Preparation using Generator Function\n",
        "8.   Word Embeddings\n",
        "9.   Model Architecture\n",
        "10.  Inference\n",
        "\n"
      ]
    },
    {
      "cell_type": "code",
      "metadata": {
        "id": "y5bG7y_7a2BB"
      },
      "source": [
        "import pandas as pd\n",
        "import numpy as np\n",
        "import matplotlib.pyplot as plt\n",
        "import keras\n",
        "import re\n",
        "import nltk\n",
        "from nltk.corpus import stopwords\n",
        "import string\n",
        "import json\n",
        "from time import time\n",
        "import pickle\n",
        "import tensorflow\n",
        "from tensorflow.keras.applications.resnet50 import ResNet50,  preprocess_input, decode_predictions\n",
        "from keras.applications.vgg16 import VGG16\n",
        "#from keras.applications.resnet50 import ResNet50, preprocess_input, decode_predictions\n",
        "from keras.preprocessing import image\n",
        "from keras.models import Model, load_model\n",
        "from keras.preprocessing.sequence import pad_sequences\n",
        "from tensorflow.keras.utils import to_categorical\n",
        "from keras.layers import Input, Dense, Dropout, Embedding, LSTM\n",
        "from keras.layers.merge import add"
      ],
      "execution_count": 1,
      "outputs": []
    },
    {
      "cell_type": "code",
      "metadata": {
        "id": "AzPwAyNRdWkp"
      },
      "source": [
        "# Read Text Captions\n",
        "\n",
        "def readTextFile(path):\n",
        "    with open(path) as f:\n",
        "        captions = f.read()\n",
        "    return captions   "
      ],
      "execution_count": 2,
      "outputs": []
    },
    {
      "cell_type": "code",
      "metadata": {
        "id": "R_LftIXgdrl4"
      },
      "source": [
        "captions  = readTextFile(\"/content/drive/MyDrive/Colab Notebooks/ML PROJECTS/1- IMAGE CAPTIONING PROJECT/Dataset/Flickr_TextData/Flickr8k.token.txt\")\n",
        "captions = captions.split('\\n')[:-1]"
      ],
      "execution_count": 3,
      "outputs": []
    },
    {
      "cell_type": "code",
      "metadata": {
        "colab": {
          "base_uri": "https://localhost:8080/"
        },
        "id": "X2ZZlTZEeBaH",
        "outputId": "edbc463c-3f9a-4932-a6a7-1f9200ba55f4"
      },
      "source": [
        "print(len(captions))"
      ],
      "execution_count": 4,
      "outputs": [
        {
          "output_type": "stream",
          "name": "stdout",
          "text": [
            "40460\n"
          ]
        }
      ]
    },
    {
      "cell_type": "code",
      "metadata": {
        "colab": {
          "base_uri": "https://localhost:8080/"
        },
        "id": "CM4r4pJreFh1",
        "outputId": "41f9fb5a-2f9d-4459-b3ff-b503ace12ad9"
      },
      "source": [
        "first,second  = captions[0].split('\\t')\n",
        "print(first.split(\".\")[0])\n",
        "print(second)"
      ],
      "execution_count": 5,
      "outputs": [
        {
          "output_type": "stream",
          "name": "stdout",
          "text": [
            "1000268201_693b08cb0e\n",
            "A child in a pink dress is climbing up a set of stairs in an entry way .\n"
          ]
        }
      ]
    },
    {
      "cell_type": "code",
      "metadata": {
        "id": "nzlCcoJ5eLw0"
      },
      "source": [
        "# Dictionary to Map each Image with the list of captions it has\n",
        "descriptions = {}\n",
        "\n",
        "for x in captions:\n",
        "    first,second = x.split('\\t')\n",
        "    img_name = first.split(\".\")[0]\n",
        "    \n",
        "    #if the image id is already present or not\n",
        "    if descriptions.get(img_name) is None:\n",
        "        descriptions[img_name] = []\n",
        "    \n",
        "    descriptions[img_name].append(second)"
      ],
      "execution_count": 6,
      "outputs": []
    },
    {
      "cell_type": "code",
      "metadata": {
        "colab": {
          "base_uri": "https://localhost:8080/"
        },
        "id": "rPqE03j5eVya",
        "outputId": "87ece5f3-adcd-4fc1-e954-1aa9c1b46e2c"
      },
      "source": [
        "descriptions[\"1000268201_693b08cb0e\"]"
      ],
      "execution_count": 7,
      "outputs": [
        {
          "output_type": "execute_result",
          "data": {
            "text/plain": [
              "['A child in a pink dress is climbing up a set of stairs in an entry way .',\n",
              " 'A girl going into a wooden building .',\n",
              " 'A little girl climbing into a wooden playhouse .',\n",
              " 'A little girl climbing the stairs to her playhouse .',\n",
              " 'A little girl in a pink dress going into a wooden cabin .']"
            ]
          },
          "metadata": {},
          "execution_count": 7
        }
      ]
    },
    {
      "cell_type": "code",
      "metadata": {
        "colab": {
          "base_uri": "https://localhost:8080/",
          "height": 248
        },
        "id": "36GI2XKbeWFA",
        "outputId": "545ec4ae-26f9-48c6-d3c6-7d7cc509ef61"
      },
      "source": [
        "IMG_PATH = \"/content/drive/MyDrive/Colab Notebooks/ML PROJECTS/1- IMAGE CAPTIONING PROJECT/Dataset/Images/\"\n",
        "import cv2\n",
        "import matplotlib.pyplot as plt\n",
        "img = cv2.imread(IMG_PATH+\"1000268201_693b08cb0e.jpg\")\n",
        "img = cv2.cvtColor(img,cv2.COLOR_BGR2RGB)\n",
        "plt.imshow(img)\n",
        "plt.axis(\"off\")\n",
        "plt.show()"
      ],
      "execution_count": 8,
      "outputs": [
        {
          "output_type": "display_data",
          "data": {
            "image/png": "[encoded data removed]",
            "text/plain": [
              "<Figure size 432x288 with 1 Axes>"
            ]
          },
          "metadata": {
            "needs_background": "light"
          }
        }
      ]
    },
    {
      "cell_type": "markdown",
      "metadata": {
        "id": "nl0cU2iQiZoh"
      },
      "source": [
        "## **Data Cleaning**"
      ]
    },
    {
      "cell_type": "code",
      "metadata": {
        "id": "hwl2JPmciWNv"
      },
      "source": [
        "def clean_text(sentence):\n",
        "    sentence = sentence.lower()\n",
        "    sentence = re.sub(\"[^a-z]+\",\" \",sentence)\n",
        "    sentence = sentence.split()\n",
        "    \n",
        "    sentence  = [s for s in sentence if len(s)>1]\n",
        "    sentence = \" \".join(sentence)\n",
        "    return sentence"
      ],
      "execution_count": 9,
      "outputs": []
    },
    {
      "cell_type": "code",
      "metadata": {
        "colab": {
          "base_uri": "https://localhost:8080/",
          "height": 35
        },
        "id": "jcFu4UP6eWYq",
        "outputId": "8b52376b-c33a-491e-d023-2503d46bf9e4"
      },
      "source": [
        "clean_text(\"A cat is sitting over the house # 64\")\n"
      ],
      "execution_count": 10,
      "outputs": [
        {
          "output_type": "execute_result",
          "data": {
            "application/vnd.google.colaboratory.intrinsic+json": {
              "type": "string"
            },
            "text/plain": [
              "'cat is sitting over the house'"
            ]
          },
          "metadata": {},
          "execution_count": 10
        }
      ]
    },
    {
      "cell_type": "code",
      "metadata": {
        "id": "zJvFs98-iuOi"
      },
      "source": [
        "# Clean all Captions\n",
        "for key,caption_list in descriptions.items():\n",
        "    for i in range(len(caption_list)):\n",
        "        caption_list[i] = clean_text(caption_list[i])"
      ],
      "execution_count": 11,
      "outputs": []
    },
    {
      "cell_type": "code",
      "metadata": {
        "colab": {
          "base_uri": "https://localhost:8080/"
        },
        "id": "D6Nv9btdi2A4",
        "outputId": "152f3ae3-bc13-46d7-de7f-baf418736592"
      },
      "source": [
        "descriptions[\"1000268201_693b08cb0e\"]"
      ],
      "execution_count": 12,
      "outputs": [
        {
          "output_type": "execute_result",
          "data": {
            "text/plain": [
              "['child in pink dress is climbing up set of stairs in an entry way',\n",
              " 'girl going into wooden building',\n",
              " 'little girl climbing into wooden playhouse',\n",
              " 'little girl climbing the stairs to her playhouse',\n",
              " 'little girl in pink dress going into wooden cabin']"
            ]
          },
          "metadata": {},
          "execution_count": 12
        }
      ]
    },
    {
      "cell_type": "code",
      "metadata": {
        "id": "ocjfByvJi75n"
      },
      "source": [
        "# Write the data to text file\n",
        "with open(\"descriptions_1.txt\",\"w\") as f:\n",
        "    f.write(str(descriptions))"
      ],
      "execution_count": 13,
      "outputs": []
    },
    {
      "cell_type": "markdown",
      "metadata": {
        "id": "dHsqBoJjjini"
      },
      "source": [
        "# **Vocablury**"
      ]
    },
    {
      "cell_type": "code",
      "metadata": {
        "id": "-erVIAdgj45Z"
      },
      "source": [
        "descriptions = None\n",
        "with open(\"descriptions_1.txt\",'r') as f:\n",
        "    descriptions= f.read()\n",
        "    \n",
        "json_acceptable_string = descriptions.replace(\"'\",\"\\\"\")\n",
        "descriptions = json.loads(json_acceptable_string)"
      ],
      "execution_count": 14,
      "outputs": []
    },
    {
      "cell_type": "code",
      "metadata": {
        "colab": {
          "base_uri": "https://localhost:8080/"
        },
        "id": "NpVg_Rh4kMMF",
        "outputId": "66ca2868-c58b-42b3-d7a9-b964a8939b90"
      },
      "source": [
        "print(type(descriptions))"
      ],
      "execution_count": 15,
      "outputs": [
        {
          "output_type": "stream",
          "name": "stdout",
          "text": [
            "<class 'dict'>\n"
          ]
        }
      ]
    },
    {
      "cell_type": "code",
      "metadata": {
        "colab": {
          "base_uri": "https://localhost:8080/"
        },
        "id": "36xohnhlkP-B",
        "outputId": "61d8e3a4-5353-422e-cb71-75e5cdcfd0eb"
      },
      "source": [
        "# Vocab\n",
        "\n",
        "vocab = set()\n",
        "for key in descriptions.keys():\n",
        "    [vocab.update(sentence.split()) for sentence in descriptions[key]]\n",
        "    \n",
        "print(\"Vocab Size : %d\"% len(vocab))"
      ],
      "execution_count": 16,
      "outputs": [
        {
          "output_type": "stream",
          "name": "stdout",
          "text": [
            "Vocab Size : 8424\n"
          ]
        }
      ]
    },
    {
      "cell_type": "code",
      "metadata": {
        "colab": {
          "base_uri": "https://localhost:8080/"
        },
        "id": "AfoqETf5kVRl",
        "outputId": "a7a11657-6e84-4dcf-80b6-c1881c26a4c2"
      },
      "source": [
        "# Total No of words across all the sentences\n",
        "total_words = []\n",
        "\n",
        "for key in descriptions.keys():\n",
        "    [total_words.append(i) for des in descriptions[key] for i in des.split()]\n",
        "    \n",
        "print(\"Total Words %d\"%len(total_words))"
      ],
      "execution_count": 17,
      "outputs": [
        {
          "output_type": "stream",
          "name": "stdout",
          "text": [
            "Total Words 373837\n"
          ]
        }
      ]
    },
    {
      "cell_type": "code",
      "metadata": {
        "colab": {
          "base_uri": "https://localhost:8080/"
        },
        "id": "roAR6NeekZYV",
        "outputId": "067ae38c-9ee6-4df8-e0b8-98bdea4afba9"
      },
      "source": [
        "# Filter Words from the Vocab according to certain threshold frequncy\n",
        "import collections\n",
        "\n",
        "counter = collections.Counter(total_words)\n",
        "freq_cnt = dict(counter)\n",
        "print(len(freq_cnt.keys()))"
      ],
      "execution_count": 18,
      "outputs": [
        {
          "output_type": "stream",
          "name": "stdout",
          "text": [
            "8424\n"
          ]
        }
      ]
    },
    {
      "cell_type": "code",
      "metadata": {
        "id": "YNSCuQfDkox_"
      },
      "source": [
        "# Sort this dictionary according to the freq count\n",
        "sorted_freq_cnt = sorted(freq_cnt.items(),reverse=True,key=lambda x:x[1])\n",
        "\n",
        "# Filter\n",
        "threshold = 10\n",
        "sorted_freq_cnt  = [x for x in sorted_freq_cnt if x[1]>threshold]\n",
        "total_words = [x[0] for x in sorted_freq_cnt]"
      ],
      "execution_count": 19,
      "outputs": []
    },
    {
      "cell_type": "code",
      "metadata": {
        "colab": {
          "base_uri": "https://localhost:8080/"
        },
        "id": "EZl-VD_Aksg-",
        "outputId": "3be9c824-c740-4d61-a729-709d99656ef0"
      },
      "source": [
        "print(len(total_words))"
      ],
      "execution_count": 20,
      "outputs": [
        {
          "output_type": "stream",
          "name": "stdout",
          "text": [
            "1845\n"
          ]
        }
      ]
    },
    {
      "cell_type": "markdown",
      "metadata": {
        "id": "oclV1Mvukwev"
      },
      "source": [
        "# **Prepare Train/Test Data**"
      ]
    },
    {
      "cell_type": "code",
      "metadata": {
        "id": "RlbSjmiSlAoc"
      },
      "source": [
        "\n",
        "train_file_data = readTextFile(\"/content/drive/MyDrive/Colab Notebooks/ML PROJECTS/1- IMAGE CAPTIONING PROJECT/Dataset/Flickr_TextData/Flickr_8k.trainImages.txt\")\n",
        "test_file_data = readTextFile(\"/content/drive/MyDrive/Colab Notebooks/ML PROJECTS/1- IMAGE CAPTIONING PROJECT/Dataset/Flickr_TextData/Flickr_8k.testImages.txt\")"
      ],
      "execution_count": 21,
      "outputs": []
    },
    {
      "cell_type": "code",
      "metadata": {
        "id": "LJ-hZ4tDlz0H"
      },
      "source": [
        "train = [row.split(\".\")[0] for row in train_file_data.split(\"\\n\")[:-1]]\n",
        "test = [row.split(\".\")[0] for row in test_file_data.split(\"\\n\")[:-1]]"
      ],
      "execution_count": 22,
      "outputs": []
    },
    {
      "cell_type": "code",
      "metadata": {
        "colab": {
          "base_uri": "https://localhost:8080/"
        },
        "id": "wFWu-IbUl4F1",
        "outputId": "17a8e55a-523b-4dcc-9701-6f4ba6d62724"
      },
      "source": [
        "train[:5]"
      ],
      "execution_count": 23,
      "outputs": [
        {
          "output_type": "execute_result",
          "data": {
            "text/plain": [
              "['2513260012_03d33305cf',\n",
              " '2903617548_d3e38d7f88',\n",
              " '3338291921_fe7ae0c8f8',\n",
              " '488416045_1c6d903fe0',\n",
              " '2644326817_8f45080b87']"
            ]
          },
          "metadata": {},
          "execution_count": 23
        }
      ]
    },
    {
      "cell_type": "code",
      "metadata": {
        "id": "k7L3Tng0l8cf"
      },
      "source": [
        "# Prepare Description for the Training Data\n",
        "# Tweak - Add <s> and <e> token to our training data\n",
        "train_descriptions = {}\n",
        "\n",
        "for img_id in train:\n",
        "    train_descriptions[img_id] = []\n",
        "    for cap in descriptions[img_id]:\n",
        "        cap_to_append = \"startseq \"  + cap + \" endseq\"\n",
        "        train_descriptions[img_id].append(cap_to_append)"
      ],
      "execution_count": 24,
      "outputs": []
    },
    {
      "cell_type": "code",
      "metadata": {
        "colab": {
          "base_uri": "https://localhost:8080/"
        },
        "id": "LUGLHPwfmByx",
        "outputId": "d8439df4-2d6b-48f4-bc73-ddfd15735543"
      },
      "source": [
        "train_descriptions[\"1000268201_693b08cb0e\"]"
      ],
      "execution_count": 25,
      "outputs": [
        {
          "output_type": "execute_result",
          "data": {
            "text/plain": [
              "['startseq child in pink dress is climbing up set of stairs in an entry way endseq',\n",
              " 'startseq girl going into wooden building endseq',\n",
              " 'startseq little girl climbing into wooden playhouse endseq',\n",
              " 'startseq little girl climbing the stairs to her playhouse endseq',\n",
              " 'startseq little girl in pink dress going into wooden cabin endseq']"
            ]
          },
          "metadata": {},
          "execution_count": 25
        }
      ]
    },
    {
      "cell_type": "markdown",
      "metadata": {
        "id": "l6aYd7O8mIPw"
      },
      "source": [
        "# **Tranfer Learning**\n",
        "   \n",
        "\n",
        "*   Images---> Features\n",
        "*   Text---> Features\n",
        "\n"
      ]
    },
    {
      "cell_type": "markdown",
      "metadata": {
        "id": "TGm5hxUamhAC"
      },
      "source": [
        "**Step - 1 Image Feature Extraction**"
      ]
    },
    {
      "cell_type": "code",
      "metadata": {
        "colab": {
          "base_uri": "https://localhost:8080/"
        },
        "id": "YJCfuZQswxsY",
        "outputId": "85300776-4791-402d-bf4d-8858039e3b4e"
      },
      "source": [
        "import tensorflow\n",
        "from tensorflow.keras.applications.resnet50 import ResNet50\n",
        "model_ = ResNet50(weights=\"imagenet\",input_shape=(224,224,3))\n",
        "model_.summary()"
      ],
      "execution_count": 26,
      "outputs": [
        {
          "output_type": "stream",
          "name": "stdout",
          "text": [
            "Downloading data from https://storage.googleapis.com/tensorflow/keras-applications/resnet/resnet50_weights_tf_dim_ordering_tf_kernels.h5\n",
            "102973440/102967424 [==============================] - 1s 0us/step\n",
            "102981632/102967424 [==============================] - 1s 0us/step\n",
            "Model: \"resnet50\"\n",
            "__________________________________________________________________________________________________\n",
            " Layer (type)                   Output Shape         Param #     Connected to                     \n",
            "==================================================================================================\n",
            " input_1 (InputLayer)           [(None, 224, 224, 3  0           []                               \n",
            "                                )]                                                                \n",
            "                                                                                                  \n",
            " conv1_pad (ZeroPadding2D)      (None, 230, 230, 3)  0           ['input_1[0][0]']                \n",
            "                                                                                                  \n",
            " conv1_conv (Conv2D)            (None, 112, 112, 64  9472        ['conv1_pad[0][0]']              \n",
            "                                )                                                                 \n",
            "                                                                                                  \n",
            " conv1_bn (BatchNormalization)  (None, 112, 112, 64  256         ['conv1_conv[0][0]']             \n",
            "                                )                                                                 \n",
            "                                                                                                  \n",
            " conv1_relu (Activation)        (None, 112, 112, 64  0           ['conv1_bn[0][0]']               \n",
            "                                )                                                                 \n",
            "                                                                                                  \n",
            " pool1_pad (ZeroPadding2D)      (None, 114, 114, 64  0           ['conv1_relu[0][0]']             \n",
            "                                )                                                                 \n",
            "                                                                                                  \n",
            " pool1_pool (MaxPooling2D)      (None, 56, 56, 64)   0           ['pool1_pad[0][0]']              \n",
            "                                                                                                  \n",
            " conv2_block1_1_conv (Conv2D)   (None, 56, 56, 64)   4160        ['pool1_pool[0][0]']             \n",
            "                                                                                                  \n",
            " conv2_block1_1_bn (BatchNormal  (None, 56, 56, 64)  256         ['conv2_block1_1_conv[0][0]']    \n",
            " ization)                                                                                         \n",
            "                                                                                                  \n",
            " conv2_block1_1_relu (Activatio  (None, 56, 56, 64)  0           ['conv2_block1_1_bn[0][0]']      \n",
            " n)                                                                                               \n",
            "                                                                                                  \n",
            " conv2_block1_2_conv (Conv2D)   (None, 56, 56, 64)   36928       ['conv2_block1_1_relu[0][0]']    \n",
            "                                                                                                  \n",
            " conv2_block1_2_bn (BatchNormal  (None, 56, 56, 64)  256         ['conv2_block1_2_conv[0][0]']    \n",
            " ization)                                                                                         \n",
            "                                                                                                  \n",
            " conv2_block1_2_relu (Activatio  (None, 56, 56, 64)  0           ['conv2_block1_2_bn[0][0]']      \n",
            " n)                                                                                               \n",
            "                                                                                                  \n",
            " conv2_block1_0_conv (Conv2D)   (None, 56, 56, 256)  16640       ['pool1_pool[0][0]']             \n",
            "                                                                                                  \n",
            " conv2_block1_3_conv (Conv2D)   (None, 56, 56, 256)  16640       ['conv2_block1_2_relu[0][0]']    \n",
            "                                                                                                  \n",
            " conv2_block1_0_bn (BatchNormal  (None, 56, 56, 256)  1024       ['conv2_block1_0_conv[0][0]']    \n",
            " ization)                                                                                         \n",
            "                                                                                                  \n",
            " conv2_block1_3_bn (BatchNormal  (None, 56, 56, 256)  1024       ['conv2_block1_3_conv[0][0]']    \n",
            " ization)                                                                                         \n",
            "                                                                                                  \n",
            " conv2_block1_add (Add)         (None, 56, 56, 256)  0           ['conv2_block1_0_bn[0][0]',      \n",
            "                                                                  'conv2_block1_3_bn[0][0]']      \n",
            "                                                                                                  \n",
            " conv2_block1_out (Activation)  (None, 56, 56, 256)  0           ['conv2_block1_add[0][0]']       \n",
            "                                                                                                  \n",
            " conv2_block2_1_conv (Conv2D)   (None, 56, 56, 64)   16448       ['conv2_block1_out[0][0]']       \n",
            "                                                                                                  \n",
            " conv2_block2_1_bn (BatchNormal  (None, 56, 56, 64)  256         ['conv2_block2_1_conv[0][0]']    \n",
            " ization)                                                                                         \n",
            "                                                                                                  \n",
            " conv2_block2_1_relu (Activatio  (None, 56, 56, 64)  0           ['conv2_block2_1_bn[0][0]']      \n",
            " n)                                                                                               \n",
            "                                                                                                  \n",
            " conv2_block2_2_conv (Conv2D)   (None, 56, 56, 64)   36928       ['conv2_block2_1_relu[0][0]']    \n",
            "                                                                                                  \n",
            " conv2_block2_2_bn (BatchNormal  (None, 56, 56, 64)  256         ['conv2_block2_2_conv[0][0]']    \n",
            " ization)                                                                                         \n",
            "                                                                                                  \n",
            " conv2_block2_2_relu (Activatio  (None, 56, 56, 64)  0           ['conv2_block2_2_bn[0][0]']      \n",
            " n)                                                                                               \n",
            "                                                                                                  \n",
            " conv2_block2_3_conv (Conv2D)   (None, 56, 56, 256)  16640       ['conv2_block2_2_relu[0][0]']    \n",
            "                                                                                                  \n",
            " conv2_block2_3_bn (BatchNormal  (None, 56, 56, 256)  1024       ['conv2_block2_3_conv[0][0]']    \n",
            " ization)                                                                                         \n",
            "                                                                                                  \n",
            " conv2_block2_add (Add)         (None, 56, 56, 256)  0           ['conv2_block1_out[0][0]',       \n",
            "                                                                  'conv2_block2_3_bn[0][0]']      \n",
            "                                                                                                  \n",
            " conv2_block2_out (Activation)  (None, 56, 56, 256)  0           ['conv2_block2_add[0][0]']       \n",
            "                                                                                                  \n",
            " conv2_block3_1_conv (Conv2D)   (None, 56, 56, 64)   16448       ['conv2_block2_out[0][0]']       \n",
            "                                                                                                  \n",
            " conv2_block3_1_bn (BatchNormal  (None, 56, 56, 64)  256         ['conv2_block3_1_conv[0][0]']    \n",
            " ization)                                                                                         \n",
            "                                                                                                  \n",
            " conv2_block3_1_relu (Activatio  (None, 56, 56, 64)  0           ['conv2_block3_1_bn[0][0]']      \n",
            " n)                                                                                               \n",
            "                                                                                                  \n",
            " conv2_block3_2_conv (Conv2D)   (None, 56, 56, 64)   36928       ['conv2_block3_1_relu[0][0]']    \n",
            "                                                                                                  \n",
            " conv2_block3_2_bn (BatchNormal  (None, 56, 56, 64)  256         ['conv2_block3_2_conv[0][0]']    \n",
            " ization)                                                                                         \n",
            "                                                                                                  \n",
            " conv2_block3_2_relu (Activatio  (None, 56, 56, 64)  0           ['conv2_block3_2_bn[0][0]']      \n",
            " n)                                                                                               \n",
            "                                                                                                  \n",
            " conv2_block3_3_conv (Conv2D)   (None, 56, 56, 256)  16640       ['conv2_block3_2_relu[0][0]']    \n",
            "                                                                                                  \n",
            " conv2_block3_3_bn (BatchNormal  (None, 56, 56, 256)  1024       ['conv2_block3_3_conv[0][0]']    \n",
            " ization)                                                                                         \n",
            "                                                                                                  \n",
            " conv2_block3_add (Add)         (None, 56, 56, 256)  0           ['conv2_block2_out[0][0]',       \n",
            "                                                                  'conv2_block3_3_bn[0][0]']      \n",
            "                                                                                                  \n",
            " conv2_block3_out (Activation)  (None, 56, 56, 256)  0           ['conv2_block3_add[0][0]']       \n",
            "                                                                                                  \n",
            " conv3_block1_1_conv (Conv2D)   (None, 28, 28, 128)  32896       ['conv2_block3_out[0][0]']       \n",
            "                                                                                                  \n",
            " conv3_block1_1_bn (BatchNormal  (None, 28, 28, 128)  512        ['conv3_block1_1_conv[0][0]']    \n",
            " ization)                                                                                         \n",
            "                                                                                                  \n",
            " conv3_block1_1_relu (Activatio  (None, 28, 28, 128)  0          ['conv3_block1_1_bn[0][0]']      \n",
            " n)                                                                                               \n",
            "                                                                                                  \n",
            " conv3_block1_2_conv (Conv2D)   (None, 28, 28, 128)  147584      ['conv3_block1_1_relu[0][0]']    \n",
            "                                                                                                  \n",
            " conv3_block1_2_bn (BatchNormal  (None, 28, 28, 128)  512        ['conv3_block1_2_conv[0][0]']    \n",
            " ization)                                                                                         \n",
            "                                                                                                  \n",
            " conv3_block1_2_relu (Activatio  (None, 28, 28, 128)  0          ['conv3_block1_2_bn[0][0]']      \n",
            " n)                                                                                               \n",
            "                                                                                                  \n",
            " conv3_block1_0_conv (Conv2D)   (None, 28, 28, 512)  131584      ['conv2_block3_out[0][0]']       \n",
            "                                                                                                  \n",
            " conv3_block1_3_conv (Conv2D)   (None, 28, 28, 512)  66048       ['conv3_block1_2_relu[0][0]']    \n",
            "                                                                                                  \n",
            " conv3_block1_0_bn (BatchNormal  (None, 28, 28, 512)  2048       ['conv3_block1_0_conv[0][0]']    \n",
            " ization)                                                                                         \n",
            "                                                                                                  \n",
            " conv3_block1_3_bn (BatchNormal  (None, 28, 28, 512)  2048       ['conv3_block1_3_conv[0][0]']    \n",
            " ization)                                                                                         \n",
            "                                                                                                  \n",
            " conv3_block1_add (Add)         (None, 28, 28, 512)  0           ['conv3_block1_0_bn[0][0]',      \n",
            "                                                                  'conv3_block1_3_bn[0][0]']      \n",
            "                                                                                                  \n",
            " conv3_block1_out (Activation)  (None, 28, 28, 512)  0           ['conv3_block1_add[0][0]']       \n",
            "                                                                                                  \n",
            " conv3_block2_1_conv (Conv2D)   (None, 28, 28, 128)  65664       ['conv3_block1_out[0][0]']       \n",
            "                                                                                                  \n",
            " conv3_block2_1_bn (BatchNormal  (None, 28, 28, 128)  512        ['conv3_block2_1_conv[0][0]']    \n",
            " ization)                                                                                         \n",
            "                                                                                                  \n",
            " conv3_block2_1_relu (Activatio  (None, 28, 28, 128)  0          ['conv3_block2_1_bn[0][0]']      \n",
            " n)                                                                                               \n",
            "                                                                                                  \n",
            " conv3_block2_2_conv (Conv2D)   (None, 28, 28, 128)  147584      ['conv3_block2_1_relu[0][0]']    \n",
            "                                                                                                  \n",
            " conv3_block2_2_bn (BatchNormal  (None, 28, 28, 128)  512        ['conv3_block2_2_conv[0][0]']    \n",
            " ization)                                                                                         \n",
            "                                                                                                  \n",
            " conv3_block2_2_relu (Activatio  (None, 28, 28, 128)  0          ['conv3_block2_2_bn[0][0]']      \n",
            " n)                                                                                               \n",
            "                                                                                                  \n",
            " conv3_block2_3_conv (Conv2D)   (None, 28, 28, 512)  66048       ['conv3_block2_2_relu[0][0]']    \n",
            "                                                                                                  \n",
            " conv3_block2_3_bn (BatchNormal  (None, 28, 28, 512)  2048       ['conv3_block2_3_conv[0][0]']    \n",
            " ization)                                                                                         \n",
            "                                                                                                  \n",
            " conv3_block2_add (Add)         (None, 28, 28, 512)  0           ['conv3_block1_out[0][0]',       \n",
            "                                                                  'conv3_block2_3_bn[0][0]']      \n",
            "                                                                                                  \n",
            " conv3_block2_out (Activation)  (None, 28, 28, 512)  0           ['conv3_block2_add[0][0]']       \n",
            "                                                                                                  \n",
            " conv3_block3_1_conv (Conv2D)   (None, 28, 28, 128)  65664       ['conv3_block2_out[0][0]']       \n",
            "                                                                                                  \n",
            " conv3_block3_1_bn (BatchNormal  (None, 28, 28, 128)  512        ['conv3_block3_1_conv[0][0]']    \n",
            " ization)                                                                                         \n",
            "                                                                                                  \n",
            " conv3_block3_1_relu (Activatio  (None, 28, 28, 128)  0          ['conv3_block3_1_bn[0][0]']      \n",
            " n)                                                                                               \n",
            "                                                                                                  \n",
            " conv3_block3_2_conv (Conv2D)   (None, 28, 28, 128)  147584      ['conv3_block3_1_relu[0][0]']    \n",
            "                                                                                                  \n",
            " conv3_block3_2_bn (BatchNormal  (None, 28, 28, 128)  512        ['conv3_block3_2_conv[0][0]']    \n",
            " ization)                                                                                         \n",
            "                                                                                                  \n",
            " conv3_block3_2_relu (Activatio  (None, 28, 28, 128)  0          ['conv3_block3_2_bn[0][0]']      \n",
            " n)                                                                                               \n",
            "                                                                                                  \n",
            " conv3_block3_3_conv (Conv2D)   (None, 28, 28, 512)  66048       ['conv3_block3_2_relu[0][0]']    \n",
            "                                                                                                  \n",
            " conv3_block3_3_bn (BatchNormal  (None, 28, 28, 512)  2048       ['conv3_block3_3_conv[0][0]']    \n",
            " ization)                                                                                         \n",
            "                                                                                                  \n",
            " conv3_block3_add (Add)         (None, 28, 28, 512)  0           ['conv3_block2_out[0][0]',       \n",
            "                                                                  'conv3_block3_3_bn[0][0]']      \n",
            "                                                                                                  \n",
            " conv3_block3_out (Activation)  (None, 28, 28, 512)  0           ['conv3_block3_add[0][0]']       \n",
            "                                                                                                  \n",
            " conv3_block4_1_conv (Conv2D)   (None, 28, 28, 128)  65664       ['conv3_block3_out[0][0]']       \n",
            "                                                                                                  \n",
            " conv3_block4_1_bn (BatchNormal  (None, 28, 28, 128)  512        ['conv3_block4_1_conv[0][0]']    \n",
            " ization)                                                                                         \n",
            "                                                                                                  \n",
            " conv3_block4_1_relu (Activatio  (None, 28, 28, 128)  0          ['conv3_block4_1_bn[0][0]']      \n",
            " n)                                                                                               \n",
            "                                                                                                  \n",
            " conv3_block4_2_conv (Conv2D)   (None, 28, 28, 128)  147584      ['conv3_block4_1_relu[0][0]']    \n",
            "                                                                                                  \n",
            " conv3_block4_2_bn (BatchNormal  (None, 28, 28, 128)  512        ['conv3_block4_2_conv[0][0]']    \n",
            " ization)                                                                                         \n",
            "                                                                                                  \n",
            " conv3_block4_2_relu (Activatio  (None, 28, 28, 128)  0          ['conv3_block4_2_bn[0][0]']      \n",
            " n)                                                                                               \n",
            "                                                                                                  \n",
            " conv3_block4_3_conv (Conv2D)   (None, 28, 28, 512)  66048       ['conv3_block4_2_relu[0][0]']    \n",
            "                                                                                                  \n",
            " conv3_block4_3_bn (BatchNormal  (None, 28, 28, 512)  2048       ['conv3_block4_3_conv[0][0]']    \n",
            " ization)                                                                                         \n",
            "                                                                                                  \n",
            " conv3_block4_add (Add)         (None, 28, 28, 512)  0           ['conv3_block3_out[0][0]',       \n",
            "                                                                  'conv3_block4_3_bn[0][0]']      \n",
            "                                                                                                  \n",
            " conv3_block4_out (Activation)  (None, 28, 28, 512)  0           ['conv3_block4_add[0][0]']       \n",
            "                                                                                                  \n",
            " conv4_block1_1_conv (Conv2D)   (None, 14, 14, 256)  131328      ['conv3_block4_out[0][0]']       \n",
            "                                                                                                  \n",
            " conv4_block1_1_bn (BatchNormal  (None, 14, 14, 256)  1024       ['conv4_block1_1_conv[0][0]']    \n",
            " ization)                                                                                         \n",
            "                                                                                                  \n",
            " conv4_block1_1_relu (Activatio  (None, 14, 14, 256)  0          ['conv4_block1_1_bn[0][0]']      \n",
            " n)                                                                                               \n",
            "                                                                                                  \n",
            " conv4_block1_2_conv (Conv2D)   (None, 14, 14, 256)  590080      ['conv4_block1_1_relu[0][0]']    \n",
            "                                                                                                  \n",
            " conv4_block1_2_bn (BatchNormal  (None, 14, 14, 256)  1024       ['conv4_block1_2_conv[0][0]']    \n",
            " ization)                                                                                         \n",
            "                                                                                                  \n",
            " conv4_block1_2_relu (Activatio  (None, 14, 14, 256)  0          ['conv4_block1_2_bn[0][0]']      \n",
            " n)                                                                                               \n",
            "                                                                                                  \n",
            " conv4_block1_0_conv (Conv2D)   (None, 14, 14, 1024  525312      ['conv3_block4_out[0][0]']       \n",
            "                                )                                                                 \n",
            "                                                                                                  \n",
            " conv4_block1_3_conv (Conv2D)   (None, 14, 14, 1024  263168      ['conv4_block1_2_relu[0][0]']    \n",
            "                                )                                                                 \n",
            "                                                                                                  \n",
            " conv4_block1_0_bn (BatchNormal  (None, 14, 14, 1024  4096       ['conv4_block1_0_conv[0][0]']    \n",
            " ization)                       )                                                                 \n",
            "                                                                                                  \n",
            " conv4_block1_3_bn (BatchNormal  (None, 14, 14, 1024  4096       ['conv4_block1_3_conv[0][0]']    \n",
            " ization)                       )                                                                 \n",
            "                                                                                                  \n",
            " conv4_block1_add (Add)         (None, 14, 14, 1024  0           ['conv4_block1_0_bn[0][0]',      \n",
            "                                )                                 'conv4_block1_3_bn[0][0]']      \n",
            "                                                                                                  \n",
            " conv4_block1_out (Activation)  (None, 14, 14, 1024  0           ['conv4_block1_add[0][0]']       \n",
            "                                )                                                                 \n",
            "                                                                                                  \n",
            " conv4_block2_1_conv (Conv2D)   (None, 14, 14, 256)  262400      ['conv4_block1_out[0][0]']       \n",
            "                                                                                                  \n",
            " conv4_block2_1_bn (BatchNormal  (None, 14, 14, 256)  1024       ['conv4_block2_1_conv[0][0]']    \n",
            " ization)                                                                                         \n",
            "                                                                                                  \n",
            " conv4_block2_1_relu (Activatio  (None, 14, 14, 256)  0          ['conv4_block2_1_bn[0][0]']      \n",
            " n)                                                                                               \n",
            "                                                                                                  \n",
            " conv4_block2_2_conv (Conv2D)   (None, 14, 14, 256)  590080      ['conv4_block2_1_relu[0][0]']    \n",
            "                                                                                                  \n",
            " conv4_block2_2_bn (BatchNormal  (None, 14, 14, 256)  1024       ['conv4_block2_2_conv[0][0]']    \n",
            " ization)                                                                                         \n",
            "                                                                                                  \n",
            " conv4_block2_2_relu (Activatio  (None, 14, 14, 256)  0          ['conv4_block2_2_bn[0][0]']      \n",
            " n)                                                                                               \n",
            "                                                                                                  \n",
            " conv4_block2_3_conv (Conv2D)   (None, 14, 14, 1024  263168      ['conv4_block2_2_relu[0][0]']    \n",
            "                                )                                                                 \n",
            "                                                                                                  \n",
            " conv4_block2_3_bn (BatchNormal  (None, 14, 14, 1024  4096       ['conv4_block2_3_conv[0][0]']    \n",
            " ization)                       )                                                                 \n",
            "                                                                                                  \n",
            " conv4_block2_add (Add)         (None, 14, 14, 1024  0           ['conv4_block1_out[0][0]',       \n",
            "                                )                                 'conv4_block2_3_bn[0][0]']      \n",
            "                                                                                                  \n",
            " conv4_block2_out (Activation)  (None, 14, 14, 1024  0           ['conv4_block2_add[0][0]']       \n",
            "                                )                                                                 \n",
            "                                                                                                  \n",
            " conv4_block3_1_conv (Conv2D)   (None, 14, 14, 256)  262400      ['conv4_block2_out[0][0]']       \n",
            "                                                                                                  \n",
            " conv4_block3_1_bn (BatchNormal  (None, 14, 14, 256)  1024       ['conv4_block3_1_conv[0][0]']    \n",
            " ization)                                                                                         \n",
            "                                                                                                  \n",
            " conv4_block3_1_relu (Activatio  (None, 14, 14, 256)  0          ['conv4_block3_1_bn[0][0]']      \n",
            " n)                                                                                               \n",
            "                                                                                                  \n",
            " conv4_block3_2_conv (Conv2D)   (None, 14, 14, 256)  590080      ['conv4_block3_1_relu[0][0]']    \n",
            "                                                                                                  \n",
            " conv4_block3_2_bn (BatchNormal  (None, 14, 14, 256)  1024       ['conv4_block3_2_conv[0][0]']    \n",
            " ization)                                                                                         \n",
            "                                                                                                  \n",
            " conv4_block3_2_relu (Activatio  (None, 14, 14, 256)  0          ['conv4_block3_2_bn[0][0]']      \n",
            " n)                                                                                               \n",
            "                                                                                                  \n",
            " conv4_block3_3_conv (Conv2D)   (None, 14, 14, 1024  263168      ['conv4_block3_2_relu[0][0]']    \n",
            "                                )                                                                 \n",
            "                                                                                                  \n",
            " conv4_block3_3_bn (BatchNormal  (None, 14, 14, 1024  4096       ['conv4_block3_3_conv[0][0]']    \n",
            " ization)                       )                                                                 \n",
            "                                                                                                  \n",
            " conv4_block3_add (Add)         (None, 14, 14, 1024  0           ['conv4_block2_out[0][0]',       \n",
            "                                )                                 'conv4_block3_3_bn[0][0]']      \n",
            "                                                                                                  \n",
            " conv4_block3_out (Activation)  (None, 14, 14, 1024  0           ['conv4_block3_add[0][0]']       \n",
            "                                )                                                                 \n",
            "                                                                                                  \n",
            " conv4_block4_1_conv (Conv2D)   (None, 14, 14, 256)  262400      ['conv4_block3_out[0][0]']       \n",
            "                                                                                                  \n",
            " conv4_block4_1_bn (BatchNormal  (None, 14, 14, 256)  1024       ['conv4_block4_1_conv[0][0]']    \n",
            " ization)                                                                                         \n",
            "                                                                                                  \n",
            " conv4_block4_1_relu (Activatio  (None, 14, 14, 256)  0          ['conv4_block4_1_bn[0][0]']      \n",
            " n)                                                                                               \n",
            "                                                                                                  \n",
            " conv4_block4_2_conv (Conv2D)   (None, 14, 14, 256)  590080      ['conv4_block4_1_relu[0][0]']    \n",
            "                                                                                                  \n",
            " conv4_block4_2_bn (BatchNormal  (None, 14, 14, 256)  1024       ['conv4_block4_2_conv[0][0]']    \n",
            " ization)                                                                                         \n",
            "                                                                                                  \n",
            " conv4_block4_2_relu (Activatio  (None, 14, 14, 256)  0          ['conv4_block4_2_bn[0][0]']      \n",
            " n)                                                                                               \n",
            "                                                                                                  \n",
            " conv4_block4_3_conv (Conv2D)   (None, 14, 14, 1024  263168      ['conv4_block4_2_relu[0][0]']    \n",
            "                                )                                                                 \n",
            "                                                                                                  \n",
            " conv4_block4_3_bn (BatchNormal  (None, 14, 14, 1024  4096       ['conv4_block4_3_conv[0][0]']    \n",
            " ization)                       )                                                                 \n",
            "                                                                                                  \n",
            " conv4_block4_add (Add)         (None, 14, 14, 1024  0           ['conv4_block3_out[0][0]',       \n",
            "                                )                                 'conv4_block4_3_bn[0][0]']      \n",
            "                                                                                                  \n",
            " conv4_block4_out (Activation)  (None, 14, 14, 1024  0           ['conv4_block4_add[0][0]']       \n",
            "                                )                                                                 \n",
            "                                                                                                  \n",
            " conv4_block5_1_conv (Conv2D)   (None, 14, 14, 256)  262400      ['conv4_block4_out[0][0]']       \n",
            "                                                                                                  \n",
            " conv4_block5_1_bn (BatchNormal  (None, 14, 14, 256)  1024       ['conv4_block5_1_conv[0][0]']    \n",
            " ization)                                                                                         \n",
            "                                                                                                  \n",
            " conv4_block5_1_relu (Activatio  (None, 14, 14, 256)  0          ['conv4_block5_1_bn[0][0]']      \n",
            " n)                                                                                               \n",
            "                                                                                                  \n",
            " conv4_block5_2_conv (Conv2D)   (None, 14, 14, 256)  590080      ['conv4_block5_1_relu[0][0]']    \n",
            "                                                                                                  \n",
            " conv4_block5_2_bn (BatchNormal  (None, 14, 14, 256)  1024       ['conv4_block5_2_conv[0][0]']    \n",
            " ization)                                                                                         \n",
            "                                                                                                  \n",
            " conv4_block5_2_relu (Activatio  (None, 14, 14, 256)  0          ['conv4_block5_2_bn[0][0]']      \n",
            " n)                                                                                               \n",
            "                                                                                                  \n",
            " conv4_block5_3_conv (Conv2D)   (None, 14, 14, 1024  263168      ['conv4_block5_2_relu[0][0]']    \n",
            "                                )                                                                 \n",
            "                                                                                                  \n",
            " conv4_block5_3_bn (BatchNormal  (None, 14, 14, 1024  4096       ['conv4_block5_3_conv[0][0]']    \n",
            " ization)                       )                                                                 \n",
            "                                                                                                  \n",
            " conv4_block5_add (Add)         (None, 14, 14, 1024  0           ['conv4_block4_out[0][0]',       \n",
            "                                )                                 'conv4_block5_3_bn[0][0]']      \n",
            "                                                                                                  \n",
            " conv4_block5_out (Activation)  (None, 14, 14, 1024  0           ['conv4_block5_add[0][0]']       \n",
            "                                )                                                                 \n",
            "                                                                                                  \n",
            " conv4_block6_1_conv (Conv2D)   (None, 14, 14, 256)  262400      ['conv4_block5_out[0][0]']       \n",
            "                                                                                                  \n",
            " conv4_block6_1_bn (BatchNormal  (None, 14, 14, 256)  1024       ['conv4_block6_1_conv[0][0]']    \n",
            " ization)                                                                                         \n",
            "                                                                                                  \n",
            " conv4_block6_1_relu (Activatio  (None, 14, 14, 256)  0          ['conv4_block6_1_bn[0][0]']      \n",
            " n)                                                                                               \n",
            "                                                                                                  \n",
            " conv4_block6_2_conv (Conv2D)   (None, 14, 14, 256)  590080      ['conv4_block6_1_relu[0][0]']    \n",
            "                                                                                                  \n",
            " conv4_block6_2_bn (BatchNormal  (None, 14, 14, 256)  1024       ['conv4_block6_2_conv[0][0]']    \n",
            " ization)                                                                                         \n",
            "                                                                                                  \n",
            " conv4_block6_2_relu (Activatio  (None, 14, 14, 256)  0          ['conv4_block6_2_bn[0][0]']      \n",
            " n)                                                                                               \n",
            "                                                                                                  \n",
            " conv4_block6_3_conv (Conv2D)   (None, 14, 14, 1024  263168      ['conv4_block6_2_relu[0][0]']    \n",
            "                                )                                                                 \n",
            "                                                                                                  \n",
            " conv4_block6_3_bn (BatchNormal  (None, 14, 14, 1024  4096       ['conv4_block6_3_conv[0][0]']    \n",
            " ization)                       )                                                                 \n",
            "                                                                                                  \n",
            " conv4_block6_add (Add)         (None, 14, 14, 1024  0           ['conv4_block5_out[0][0]',       \n",
            "                                )                                 'conv4_block6_3_bn[0][0]']      \n",
            "                                                                                                  \n",
            " conv4_block6_out (Activation)  (None, 14, 14, 1024  0           ['conv4_block6_add[0][0]']       \n",
            "                                )                                                                 \n",
            "                                                                                                  \n",
            " conv5_block1_1_conv (Conv2D)   (None, 7, 7, 512)    524800      ['conv4_block6_out[0][0]']       \n",
            "                                                                                                  \n",
            " conv5_block1_1_bn (BatchNormal  (None, 7, 7, 512)   2048        ['conv5_block1_1_conv[0][0]']    \n",
            " ization)                                                                                         \n",
            "                                                                                                  \n",
            " conv5_block1_1_relu (Activatio  (None, 7, 7, 512)   0           ['conv5_block1_1_bn[0][0]']      \n",
            " n)                                                                                               \n",
            "                                                                                                  \n",
            " conv5_block1_2_conv (Conv2D)   (None, 7, 7, 512)    2359808     ['conv5_block1_1_relu[0][0]']    \n",
            "                                                                                                  \n",
            " conv5_block1_2_bn (BatchNormal  (None, 7, 7, 512)   2048        ['conv5_block1_2_conv[0][0]']    \n",
            " ization)                                                                                         \n",
            "                                                                                                  \n",
            " conv5_block1_2_relu (Activatio  (None, 7, 7, 512)   0           ['conv5_block1_2_bn[0][0]']      \n",
            " n)                                                                                               \n",
            "                                                                                                  \n",
            " conv5_block1_0_conv (Conv2D)   (None, 7, 7, 2048)   2099200     ['conv4_block6_out[0][0]']       \n",
            "                                                                                                  \n",
            " conv5_block1_3_conv (Conv2D)   (None, 7, 7, 2048)   1050624     ['conv5_block1_2_relu[0][0]']    \n",
            "                                                                                                  \n",
            " conv5_block1_0_bn (BatchNormal  (None, 7, 7, 2048)  8192        ['conv5_block1_0_conv[0][0]']    \n",
            " ization)                                                                                         \n",
            "                                                                                                  \n",
            " conv5_block1_3_bn (BatchNormal  (None, 7, 7, 2048)  8192        ['conv5_block1_3_conv[0][0]']    \n",
            " ization)                                                                                         \n",
            "                                                                                                  \n",
            " conv5_block1_add (Add)         (None, 7, 7, 2048)   0           ['conv5_block1_0_bn[0][0]',      \n",
            "                                                                  'conv5_block1_3_bn[0][0]']      \n",
            "                                                                                                  \n",
            " conv5_block1_out (Activation)  (None, 7, 7, 2048)   0           ['conv5_block1_add[0][0]']       \n",
            "                                                                                                  \n",
            " conv5_block2_1_conv (Conv2D)   (None, 7, 7, 512)    1049088     ['conv5_block1_out[0][0]']       \n",
            "                                                                                                  \n",
            " conv5_block2_1_bn (BatchNormal  (None, 7, 7, 512)   2048        ['conv5_block2_1_conv[0][0]']    \n",
            " ization)                                                                                         \n",
            "                                                                                                  \n",
            " conv5_block2_1_relu (Activatio  (None, 7, 7, 512)   0           ['conv5_block2_1_bn[0][0]']      \n",
            " n)                                                                                               \n",
            "                                                                                                  \n",
            " conv5_block2_2_conv (Conv2D)   (None, 7, 7, 512)    2359808     ['conv5_block2_1_relu[0][0]']    \n",
            "                                                                                                  \n",
            " conv5_block2_2_bn (BatchNormal  (None, 7, 7, 512)   2048        ['conv5_block2_2_conv[0][0]']    \n",
            " ization)                                                                                         \n",
            "                                                                                                  \n",
            " conv5_block2_2_relu (Activatio  (None, 7, 7, 512)   0           ['conv5_block2_2_bn[0][0]']      \n",
            " n)                                                                                               \n",
            "                                                                                                  \n",
            " conv5_block2_3_conv (Conv2D)   (None, 7, 7, 2048)   1050624     ['conv5_block2_2_relu[0][0]']    \n",
            "                                                                                                  \n",
            " conv5_block2_3_bn (BatchNormal  (None, 7, 7, 2048)  8192        ['conv5_block2_3_conv[0][0]']    \n",
            " ization)                                                                                         \n",
            "                                                                                                  \n",
            " conv5_block2_add (Add)         (None, 7, 7, 2048)   0           ['conv5_block1_out[0][0]',       \n",
            "                                                                  'conv5_block2_3_bn[0][0]']      \n",
            "                                                                                                  \n",
            " conv5_block2_out (Activation)  (None, 7, 7, 2048)   0           ['conv5_block2_add[0][0]']       \n",
            "                                                                                                  \n",
            " conv5_block3_1_conv (Conv2D)   (None, 7, 7, 512)    1049088     ['conv5_block2_out[0][0]']       \n",
            "                                                                                                  \n",
            " conv5_block3_1_bn (BatchNormal  (None, 7, 7, 512)   2048        ['conv5_block3_1_conv[0][0]']    \n",
            " ization)                                                                                         \n",
            "                                                                                                  \n",
            " conv5_block3_1_relu (Activatio  (None, 7, 7, 512)   0           ['conv5_block3_1_bn[0][0]']      \n",
            " n)                                                                                               \n",
            "                                                                                                  \n",
            " conv5_block3_2_conv (Conv2D)   (None, 7, 7, 512)    2359808     ['conv5_block3_1_relu[0][0]']    \n",
            "                                                                                                  \n",
            " conv5_block3_2_bn (BatchNormal  (None, 7, 7, 512)   2048        ['conv5_block3_2_conv[0][0]']    \n",
            " ization)                                                                                         \n",
            "                                                                                                  \n",
            " conv5_block3_2_relu (Activatio  (None, 7, 7, 512)   0           ['conv5_block3_2_bn[0][0]']      \n",
            " n)                                                                                               \n",
            "                                                                                                  \n",
            " conv5_block3_3_conv (Conv2D)   (None, 7, 7, 2048)   1050624     ['conv5_block3_2_relu[0][0]']    \n",
            "                                                                                                  \n",
            " conv5_block3_3_bn (BatchNormal  (None, 7, 7, 2048)  8192        ['conv5_block3_3_conv[0][0]']    \n",
            " ization)                                                                                         \n",
            "                                                                                                  \n",
            " conv5_block3_add (Add)         (None, 7, 7, 2048)   0           ['conv5_block2_out[0][0]',       \n",
            "                                                                  'conv5_block3_3_bn[0][0]']      \n",
            "                                                                                                  \n",
            " conv5_block3_out (Activation)  (None, 7, 7, 2048)   0           ['conv5_block3_add[0][0]']       \n",
            "                                                                                                  \n",
            " avg_pool (GlobalAveragePooling  (None, 2048)        0           ['conv5_block3_out[0][0]']       \n",
            " 2D)                                                                                              \n",
            "                                                                                                  \n",
            " predictions (Dense)            (None, 1000)         2049000     ['avg_pool[0][0]']               \n",
            "                                                                                                  \n",
            "==================================================================================================\n",
            "Total params: 25,636,712\n",
            "Trainable params: 25,583,592\n",
            "Non-trainable params: 53,120\n",
            "__________________________________________________________________________________________________\n"
          ]
        }
      ]
    },
    {
      "cell_type": "code",
      "metadata": {
        "id": "z0hqKhzJxJE7"
      },
      "source": [
        "from tensorflow.keras import Model\n",
        "model_new = Model(model_.input,model_.layers[-2].output)"
      ],
      "execution_count": 27,
      "outputs": []
    },
    {
      "cell_type": "code",
      "metadata": {
        "id": "-97gb_go6W0s"
      },
      "source": [
        "def preprocess_img(img):\n",
        "    img = image.load_img(img,target_size=(224,224))\n",
        "    img = image.img_to_array(img)\n",
        "    img = np.expand_dims(img,axis=0)\n",
        "    # Normalisation\n",
        "    img = preprocess_input(img)\n",
        "    return img"
      ],
      "execution_count": 28,
      "outputs": []
    },
    {
      "cell_type": "code",
      "metadata": {
        "id": "kArTkhUk6bON",
        "colab": {
          "base_uri": "https://localhost:8080/",
          "height": 265
        },
        "outputId": "cffa1bbe-90ab-4043-bade-f3638c222249"
      },
      "source": [
        "#img = preprocess_img(IMG_PATH+\"1000268201_693b08cb0e.jpg\")\n",
        "#plt.imshow(img[0])\n",
        "#plt.axis(\"off\")\n",
        "#plt.show()"
      ],
      "execution_count": 29,
      "outputs": [
        {
          "output_type": "stream",
          "name": "stderr",
          "text": [
            "Clipping input data to the valid range for imshow with RGB data ([0..1] for floats or [0..255] for integers).\n"
          ]
        },
        {
          "output_type": "display_data",
          "data": {
            "image/png": "[encoded data removed]",
            "text/plain": [
              "<Figure size 432x288 with 1 Axes>"
            ]
          },
          "metadata": {
            "needs_background": "light"
          }
        }
      ]
    },
    {
      "cell_type": "code",
      "metadata": {
        "id": "frrtGY-96wCG"
      },
      "source": [
        "def encode_image(img):\n",
        "    img = preprocess_img(img)\n",
        "    feature_vector = model_new.predict(img)\n",
        "    \n",
        "    feature_vector = feature_vector.reshape((-1,))\n",
        "    #print(feature_vector.shape)\n",
        "    return feature_vector"
      ],
      "execution_count": 30,
      "outputs": []
    },
    {
      "cell_type": "code",
      "metadata": {
        "colab": {
          "base_uri": "https://localhost:8080/"
        },
        "id": "HuGw0wwE6zZz",
        "outputId": "22a39359-b8a3-4c07-df7a-f3644c2c371a"
      },
      "source": [
        "encode_image(IMG_PATH+\"1000268201_693b08cb0e.jpg\")"
      ],
      "execution_count": 31,
      "outputs": [
        {
          "output_type": "execute_result",
          "data": {
            "text/plain": [
              "array([0.06535931, 0.16782546, 0.32517618, ..., 0.05107123, 0.32821232,\n",
              "       1.004337  ], dtype=float32)"
            ]
          },
          "metadata": {},
          "execution_count": 31
        }
      ]
    },
    {
      "cell_type": "code",
      "metadata": {
        "id": "BtZI3ZP66da4",
        "colab": {
          "base_uri": "https://localhost:8080/"
        },
        "outputId": "7be5a57d-511e-42db-d7e3-69d4231229b2"
      },
      "source": [
        "\n",
        "start = time()\n",
        "encoding_train = {}\n",
        "#image_id -->feature_vector extracted from Resnet Image\n",
        "\n",
        "for ix,img_id in enumerate(train):\n",
        "    img_path = IMG_PATH+\"/\"+img_id+\".jpg\"\n",
        "    encoding_train[img_id] = encode_image(img_path)\n",
        "    \n",
        "    if ix%100==0:\n",
        "        print(\"Encoding in Progress Time step %d \"%ix)\n",
        "        \n",
        "end_t = time()\n",
        "print(\"Total Time Taken :\",end_t-start)"
      ],
      "execution_count": 32,
      "outputs": [
        {
          "output_type": "stream",
          "name": "stdout",
          "text": [
            "Encoding in Progress Time step 0 \n",
            "Encoding in Progress Time step 100 \n",
            "Encoding in Progress Time step 200 \n",
            "Encoding in Progress Time step 300 \n",
            "Encoding in Progress Time step 400 \n",
            "Encoding in Progress Time step 500 \n",
            "Encoding in Progress Time step 600 \n",
            "Encoding in Progress Time step 700 \n",
            "Encoding in Progress Time step 800 \n",
            "Encoding in Progress Time step 900 \n",
            "Encoding in Progress Time step 1000 \n",
            "Encoding in Progress Time step 1100 \n",
            "Encoding in Progress Time step 1200 \n",
            "Encoding in Progress Time step 1300 \n",
            "Encoding in Progress Time step 1400 \n",
            "Encoding in Progress Time step 1500 \n",
            "Encoding in Progress Time step 1600 \n",
            "Encoding in Progress Time step 1700 \n",
            "Encoding in Progress Time step 1800 \n",
            "Encoding in Progress Time step 1900 \n",
            "Encoding in Progress Time step 2000 \n",
            "Encoding in Progress Time step 2100 \n",
            "Encoding in Progress Time step 2200 \n",
            "Encoding in Progress Time step 2300 \n",
            "Encoding in Progress Time step 2400 \n",
            "Encoding in Progress Time step 2500 \n",
            "Encoding in Progress Time step 2600 \n",
            "Encoding in Progress Time step 2700 \n",
            "Encoding in Progress Time step 2800 \n",
            "Encoding in Progress Time step 2900 \n",
            "Encoding in Progress Time step 3000 \n",
            "Encoding in Progress Time step 3100 \n",
            "Encoding in Progress Time step 3200 \n",
            "Encoding in Progress Time step 3300 \n",
            "Encoding in Progress Time step 3400 \n",
            "Encoding in Progress Time step 3500 \n",
            "Encoding in Progress Time step 3600 \n",
            "Encoding in Progress Time step 3700 \n",
            "Encoding in Progress Time step 3800 \n",
            "Encoding in Progress Time step 3900 \n",
            "Encoding in Progress Time step 4000 \n",
            "Encoding in Progress Time step 4100 \n",
            "Encoding in Progress Time step 4200 \n",
            "Encoding in Progress Time step 4300 \n",
            "Encoding in Progress Time step 4400 \n",
            "Encoding in Progress Time step 4500 \n",
            "Encoding in Progress Time step 4600 \n",
            "Encoding in Progress Time step 4700 \n",
            "Encoding in Progress Time step 4800 \n",
            "Encoding in Progress Time step 4900 \n",
            "Encoding in Progress Time step 5000 \n",
            "Encoding in Progress Time step 5100 \n",
            "Encoding in Progress Time step 5200 \n",
            "Encoding in Progress Time step 5300 \n",
            "Encoding in Progress Time step 5400 \n",
            "Encoding in Progress Time step 5500 \n",
            "Encoding in Progress Time step 5600 \n",
            "Encoding in Progress Time step 5700 \n",
            "Encoding in Progress Time step 5800 \n",
            "Encoding in Progress Time step 5900 \n",
            "Total Time Taken : 2974.9755733013153\n"
          ]
        }
      ]
    },
    {
      "cell_type": "code",
      "metadata": {
        "id": "1YmRdWxy7WOc"
      },
      "source": [
        "# Store everything to the disk \n",
        "with open(\"encoded_train_features2.pkl\",\"wb\") as f:\n",
        "    pickle.dump(encoding_train,f)"
      ],
      "execution_count": 33,
      "outputs": []
    },
    {
      "cell_type": "code",
      "metadata": {
        "id": "yrrTnC5C7XUf",
        "colab": {
          "base_uri": "https://localhost:8080/"
        },
        "outputId": "4305f8cd-45e4-462c-bc54-6ae8e0d80f48"
      },
      "source": [
        "start = time()\n",
        "encoding_test = {}\n",
        "#image_id -->feature_vector extracted from Resnet Image\n",
        "\n",
        "for ix,img_id in enumerate(test):\n",
        "    img_path = IMG_PATH+\"/\"+img_id+\".jpg\"\n",
        "    encoding_test[img_id] = encode_image(img_path)\n",
        "    \n",
        "    if ix%100==0:\n",
        "        print(\"Test Encoding in Progress Time step %d \"%ix)\n",
        "        \n",
        "end_t = time()\n",
        "print(\"Total Time Taken(test) :\",end_t-start)"
      ],
      "execution_count": 34,
      "outputs": [
        {
          "output_type": "stream",
          "name": "stdout",
          "text": [
            "Test Encoding in Progress Time step 0 \n",
            "Test Encoding in Progress Time step 100 \n",
            "Test Encoding in Progress Time step 200 \n",
            "Test Encoding in Progress Time step 300 \n",
            "Test Encoding in Progress Time step 400 \n",
            "Test Encoding in Progress Time step 500 \n",
            "Test Encoding in Progress Time step 600 \n",
            "Test Encoding in Progress Time step 700 \n",
            "Test Encoding in Progress Time step 800 \n",
            "Test Encoding in Progress Time step 900 \n",
            "Total Time Taken(test) : 547.7894134521484\n"
          ]
        }
      ]
    },
    {
      "cell_type": "code",
      "metadata": {
        "id": "fpsEOjKL7c-B"
      },
      "source": [
        "with open(\"encoded_test_features2.pkl\",\"wb\") as f:\n",
        "    pickle.dump(encoding_test,f)"
      ],
      "execution_count": 35,
      "outputs": []
    },
    {
      "cell_type": "markdown",
      "metadata": {
        "id": "WHjsM_397h4Q"
      },
      "source": [
        "# **Data Preprocessing for Captions**"
      ]
    },
    {
      "cell_type": "code",
      "metadata": {
        "id": "tK5LrKrz7k0E",
        "colab": {
          "base_uri": "https://localhost:8080/"
        },
        "outputId": "de5f1da0-bc69-4a95-f580-f5c9b0e1e236"
      },
      "source": [
        "# Vocab\n",
        "len(total_words)\n"
      ],
      "execution_count": 36,
      "outputs": [
        {
          "output_type": "execute_result",
          "data": {
            "text/plain": [
              "1845"
            ]
          },
          "metadata": {},
          "execution_count": 36
        }
      ]
    },
    {
      "cell_type": "code",
      "metadata": {
        "id": "JQ_1RQTI0zU1"
      },
      "source": [
        "word_to_idx = {}\n",
        "idx_to_word = {}\n",
        "\n",
        "for i,word in enumerate(total_words):\n",
        "    word_to_idx[word] = i+1\n",
        "    idx_to_word[i+1] = word"
      ],
      "execution_count": 37,
      "outputs": []
    },
    {
      "cell_type": "code",
      "metadata": {
        "colab": {
          "base_uri": "https://localhost:8080/"
        },
        "id": "IQNH114C6xVy",
        "outputId": "316ead4f-3b3f-4392-cee4-3faf9c63f9be"
      },
      "source": [
        "#word_to_idx[\"dog\"]\n",
        "#idx_to_word[1]\n",
        "print(len(idx_to_word))"
      ],
      "execution_count": 38,
      "outputs": [
        {
          "output_type": "stream",
          "name": "stdout",
          "text": [
            "1845\n"
          ]
        }
      ]
    },
    {
      "cell_type": "code",
      "metadata": {
        "colab": {
          "base_uri": "https://localhost:8080/"
        },
        "id": "EIv5-EfJ7C1A",
        "outputId": "a78767c3-f985-4394-dc8c-944781739d20"
      },
      "source": [
        "# Two special words\n",
        "idx_to_word[1846] = 'startseq'\n",
        "word_to_idx['startseq'] = 1846\n",
        "\n",
        "idx_to_word[1847] = 'endseq'\n",
        "word_to_idx['endseq'] = 1847\n",
        "\n",
        "vocab_size = len(word_to_idx) + 1\n",
        "print(\"Vocab Size\",vocab_size)"
      ],
      "execution_count": 39,
      "outputs": [
        {
          "output_type": "stream",
          "name": "stdout",
          "text": [
            "Vocab Size 1848\n"
          ]
        }
      ]
    },
    {
      "cell_type": "code",
      "metadata": {
        "colab": {
          "base_uri": "https://localhost:8080/"
        },
        "id": "ySvbOT0F7PpM",
        "outputId": "b8689653-5a16-4e8c-dcfa-1f6fe580c10c"
      },
      "source": [
        "max_len = 0 \n",
        "for key in train_descriptions.keys():\n",
        "    for cap in train_descriptions[key]:\n",
        "        max_len = max(max_len,len(cap.split()))\n",
        "        \n",
        "print(max_len)"
      ],
      "execution_count": 40,
      "outputs": [
        {
          "output_type": "stream",
          "name": "stdout",
          "text": [
            "35\n"
          ]
        }
      ]
    },
    {
      "cell_type": "markdown",
      "metadata": {
        "id": "zPolQJ3w7Zcg"
      },
      "source": [
        "# **Data Loader (Generator)**"
      ]
    },
    {
      "cell_type": "code",
      "metadata": {
        "id": "H4R-ujlc7cQR"
      },
      "source": [
        "import tensorflow\n",
        "from tensorflow.keras.utils import to_categorical\n",
        "def data_generator(train_descriptions,encoding_train,word_to_idx,max_len,batch_size):\n",
        "    X1,X2, y = [],[],[]\n",
        "    \n",
        "    n =0\n",
        "    while True:\n",
        "        for key,desc_list in train_descriptions.items():\n",
        "            n += 1\n",
        "            \n",
        "            photo = encoding_train[key]\n",
        "            for desc in desc_list:\n",
        "                \n",
        "                seq = [word_to_idx[word] for word in desc.split() if word in word_to_idx]\n",
        "                for i in range(1,len(seq)):\n",
        "                    xi = seq[0:i]\n",
        "                    yi = seq[i]\n",
        "                    \n",
        "                    #0 denote padding word\n",
        "                    xi = pad_sequences([xi],maxlen=max_len,value=0,padding='post')[0]\n",
        "                    yi = to_categorcial([yi],num_classes=vocab_size)[0]\n",
        "                    \n",
        "                    X1.append(photo)\n",
        "                    X2.append(xi)\n",
        "                    y.append(yi)\n",
        "                    \n",
        "                if n==batch_size:\n",
        "                    yield [[np.array(X1),np.array(X2)],np.array(y)]\n",
        "                    X1,X2,y = [],[],[]\n",
        "                    n = 0"
      ],
      "execution_count": 41,
      "outputs": []
    },
    {
      "cell_type": "markdown",
      "metadata": {
        "id": "W72EKMyW8WsE"
      },
      "source": [
        "# **Word Embeddings**"
      ]
    },
    {
      "cell_type": "code",
      "metadata": {
        "id": "ILUeOBJ98ZPG"
      },
      "source": [
        "f = open(\"/content/drive/MyDrive/Colab Notebooks/ML PROJECTS/1- IMAGE CAPTIONING PROJECT/Dataset/glove.6B.50d.txt\",encoding='utf8')"
      ],
      "execution_count": 46,
      "outputs": []
    },
    {
      "cell_type": "code",
      "metadata": {
        "id": "9NsJgSKM-cr6"
      },
      "source": [
        "embedding_index = {}\n",
        "\n",
        "for line in f:\n",
        "    values = line.split()\n",
        "    \n",
        "    word = values[0]\n",
        "    word_embedding = np.array(values[1:],dtype='float')\n",
        "    embedding_index[word] = word_embedding"
      ],
      "execution_count": 47,
      "outputs": []
    },
    {
      "cell_type": "code",
      "metadata": {
        "id": "KSJcjg7J-siA"
      },
      "source": [
        "f.close()"
      ],
      "execution_count": 48,
      "outputs": []
    },
    {
      "cell_type": "code",
      "metadata": {
        "colab": {
          "base_uri": "https://localhost:8080/"
        },
        "id": "s-ZV4mll-vyz",
        "outputId": "af759578-560c-470f-af07-51ea3c6d9969"
      },
      "source": [
        "embedding_index['apple']"
      ],
      "execution_count": 49,
      "outputs": [
        {
          "output_type": "execute_result",
          "data": {
            "text/plain": [
              "array([ 0.52042 , -0.8314  ,  0.49961 ,  1.2893  ,  0.1151  ,  0.057521,\n",
              "       -1.3753  , -0.97313 ,  0.18346 ,  0.47672 , -0.15112 ,  0.35532 ,\n",
              "        0.25912 , -0.77857 ,  0.52181 ,  0.47695 , -1.4251  ,  0.858   ,\n",
              "        0.59821 , -1.0903  ,  0.33574 , -0.60891 ,  0.41742 ,  0.21569 ,\n",
              "       -0.07417 , -0.5822  , -0.4502  ,  0.17253 ,  0.16448 , -0.38413 ,\n",
              "        2.3283  , -0.66682 , -0.58181 ,  0.74389 ,  0.095015, -0.47865 ,\n",
              "       -0.84591 ,  0.38704 ,  0.23693 , -1.5523  ,  0.64802 , -0.16521 ,\n",
              "       -1.4719  , -0.16224 ,  0.79857 ,  0.97391 ,  0.40027 , -0.21912 ,\n",
              "       -0.30938 ,  0.26581 ])"
            ]
          },
          "metadata": {},
          "execution_count": 49
        }
      ]
    },
    {
      "cell_type": "code",
      "metadata": {
        "id": "c3zYVgR9-zlz"
      },
      "source": [
        "def get_embedding_matrix():\n",
        "    emb_dim = 50\n",
        "    matrix = np.zeros((vocab_size,emb_dim))\n",
        "    for word,idx in word_to_idx.items():\n",
        "        embedding_vector = embedding_index.get(word)\n",
        "        \n",
        "        if embedding_vector is not None:\n",
        "            matrix[idx] = embedding_vector\n",
        "            \n",
        "    return matrix"
      ],
      "execution_count": 50,
      "outputs": []
    },
    {
      "cell_type": "code",
      "metadata": {
        "colab": {
          "base_uri": "https://localhost:8080/"
        },
        "id": "PPymRR0B-4vi",
        "outputId": "3e90c76f-3990-4bdd-a9bd-d54f163ae5aa"
      },
      "source": [
        "embedding_matrix = get_embedding_matrix()\n",
        "embedding_matrix.shape"
      ],
      "execution_count": 51,
      "outputs": [
        {
          "output_type": "execute_result",
          "data": {
            "text/plain": [
              "(1848, 50)"
            ]
          },
          "metadata": {},
          "execution_count": 51
        }
      ]
    },
    {
      "cell_type": "code",
      "metadata": {
        "id": "neSbNTuF-81P"
      },
      "source": [
        "#embedding_matrix[1847]"
      ],
      "execution_count": 52,
      "outputs": []
    },
    {
      "cell_type": "markdown",
      "metadata": {
        "id": "s9379tSs_Jr0"
      },
      "source": [
        "# **Model Architecture**"
      ]
    },
    {
      "cell_type": "code",
      "metadata": {
        "id": "9Q5Kde12_MXj"
      },
      "source": [
        "input_img_features = Input(shape=(2048,))\n",
        "inp_img1 = Dropout(0.3)(input_img_features)\n",
        "inp_img2 = Dense(256,activation='relu')(inp_img1)"
      ],
      "execution_count": 53,
      "outputs": []
    },
    {
      "cell_type": "code",
      "metadata": {
        "id": "VyYo9eZIACUc"
      },
      "source": [
        "# Captions as Input\n",
        "input_captions = Input(shape=(max_len,))\n",
        "inp_cap1 = Embedding(input_dim=vocab_size,output_dim=50,mask_zero=True)(input_captions)\n",
        "inp_cap2 = Dropout(0.3)(inp_cap1)\n",
        "inp_cap3 = LSTM(256)(inp_cap2)"
      ],
      "execution_count": 54,
      "outputs": []
    },
    {
      "cell_type": "code",
      "metadata": {
        "id": "weU_fjalAIpT"
      },
      "source": [
        "decoder1 = add([inp_img2,inp_cap3])\n",
        "decoder2 = Dense(256,activation='relu')(decoder1)\n",
        "outputs = Dense(vocab_size,activation='softmax')(decoder2)\n",
        "\n",
        "# Combined Model\n",
        "model = Model(inputs=[input_img_features,input_captions],outputs=outputs)"
      ],
      "execution_count": 55,
      "outputs": []
    },
    {
      "cell_type": "code",
      "metadata": {
        "colab": {
          "base_uri": "https://localhost:8080/"
        },
        "id": "VsZCQ7rRAQWd",
        "outputId": "8ec98597-8008-4d8e-cd7b-7c56fa759225"
      },
      "source": [
        "model.summary()"
      ],
      "execution_count": 56,
      "outputs": [
        {
          "output_type": "stream",
          "name": "stdout",
          "text": [
            "Model: \"model_1\"\n",
            "__________________________________________________________________________________________________\n",
            " Layer (type)                   Output Shape         Param #     Connected to                     \n",
            "==================================================================================================\n",
            " input_3 (InputLayer)           [(None, 35)]         0           []                               \n",
            "                                                                                                  \n",
            " input_2 (InputLayer)           [(None, 2048)]       0           []                               \n",
            "                                                                                                  \n",
            " embedding (Embedding)          (None, 35, 50)       92400       ['input_3[0][0]']                \n",
            "                                                                                                  \n",
            " dropout (Dropout)              (None, 2048)         0           ['input_2[0][0]']                \n",
            "                                                                                                  \n",
            " dropout_1 (Dropout)            (None, 35, 50)       0           ['embedding[0][0]']              \n",
            "                                                                                                  \n",
            " dense (Dense)                  (None, 256)          524544      ['dropout[0][0]']                \n",
            "                                                                                                  \n",
            " lstm (LSTM)                    (None, 256)          314368      ['dropout_1[0][0]']              \n",
            "                                                                                                  \n",
            " add (Add)                      (None, 256)          0           ['dense[0][0]',                  \n",
            "                                                                  'lstm[0][0]']                   \n",
            "                                                                                                  \n",
            " dense_1 (Dense)                (None, 256)          65792       ['add[0][0]']                    \n",
            "                                                                                                  \n",
            " dense_2 (Dense)                (None, 1848)         474936      ['dense_1[0][0]']                \n",
            "                                                                                                  \n",
            "==================================================================================================\n",
            "Total params: 1,472,040\n",
            "Trainable params: 1,472,040\n",
            "Non-trainable params: 0\n",
            "__________________________________________________________________________________________________\n"
          ]
        }
      ]
    },
    {
      "cell_type": "code",
      "metadata": {
        "id": "ED_FtMzNAVcf"
      },
      "source": [
        "# Important Thing - Embedding Layer\n",
        "model.layers[2].set_weights([embedding_matrix])\n",
        "model.layers[2].trainable = False"
      ],
      "execution_count": 57,
      "outputs": []
    },
    {
      "cell_type": "code",
      "metadata": {
        "id": "Z5X5f-feAZw5"
      },
      "source": [
        "model.compile(loss='categorical_crossentropy',optimizer=\"adam\")"
      ],
      "execution_count": 58,
      "outputs": []
    },
    {
      "cell_type": "markdown",
      "metadata": {
        "id": "ezycBfXeAbU1"
      },
      "source": [
        "# **Training of Model**"
      ]
    },
    {
      "cell_type": "code",
      "metadata": {
        "id": "1MJR9-IDAgdG"
      },
      "source": [
        "epochs = 15\n",
        "number_pics_per_batch = 3\n",
        "steps = len(train_descriptions)//number_pics_per_batch"
      ],
      "execution_count": 59,
      "outputs": []
    },
    {
      "cell_type": "code",
      "metadata": {
        "id": "re1pimWZBql8"
      },
      "source": [
        "def training():\n",
        "    \n",
        "    for x in range(epochs):\n",
        "        generator_ = data_generator(train_descriptions,encoding_train,word_to_idx,max_len,number_pics_per_batch)\n",
        "        model.fit_generator(generator_,epochs=1,steps_per_epoch=steps,verbose=1)\n",
        "        model.save('/content/drive/MyDrive/Colab Notebooks/ML PROJECTS/1- IMAGE CAPTIONING PROJECT/model_weight/model_'+str(x)+'.h5')"
      ],
      "execution_count": 60,
      "outputs": []
    },
    {
      "cell_type": "code",
      "metadata": {
        "id": "YxtSl9Tume3t"
      },
      "source": [
        "#import tensorflow\n",
        "#from tensorflow.keras.utils import to_categorical\n",
        "#training()\n"
      ],
      "execution_count": 61,
      "outputs": []
    },
    {
      "cell_type": "code",
      "metadata": {
        "id": "D_wzDCINBvKF"
      },
      "source": [
        "#model = load_model('/content/drive/MyDrive/Colab Notebooks/ML PROJECTS/1- IMAGE CAPTIONING PROJECT/model_weight/model_9.h5')"
      ],
      "execution_count": 62,
      "outputs": []
    },
    {
      "cell_type": "markdown",
      "metadata": {
        "id": "BjFtCRZnT1Zw"
      },
      "source": [
        "# **Predictions**"
      ]
    },
    {
      "cell_type": "code",
      "metadata": {
        "id": "Xa9JFNNmTz6E"
      },
      "source": [
        "def predict_caption(photo):\n",
        "    \n",
        "    in_text = \"startseq\"\n",
        "    for i in range(max_len):\n",
        "        sequence = [word_to_idx[w] for w in in_text.split() if w in word_to_idx]\n",
        "        sequence = pad_sequences([sequence],maxlen=max_len,padding='post')\n",
        "        \n",
        "        ypred = model.predict([photo,sequence])\n",
        "        ypred = ypred.argmax() #WOrd with max prob always - Greedy Sampling\n",
        "        word = idx_to_word[ypred]\n",
        "        in_text += (' ' + word)\n",
        "        \n",
        "        if word == \"endseq\":\n",
        "            break\n",
        "    \n",
        "    final_caption = in_text.split()[1:-1]\n",
        "    final_caption = ' '.join(final_caption)\n",
        "    return final_caption"
      ],
      "execution_count": 63,
      "outputs": []
    },
    {
      "cell_type": "code",
      "metadata": {
        "id": "2Zq7SJwCT-t_"
      },
      "source": [
        "# Pick Some Random Images and See Results\n",
        "#plt.style.use(\"seaborn\")\n",
        "#for i in range(15):\n",
        "   # idx = np.random.randint(0,1000)\n",
        "   # all_img_names = list(encoding_test.keys())\n",
        "    #img_name = all_img_names[idx]\n",
        "    #photo_2048 = encoding_test[img_name].reshape((1,2048))\n",
        "    \n",
        "    #i = plt.imread(\"/content/drive/MyDrive/Colab Notebooks/ML PROJECTS/1- IMAGE CAPTIONING PROJECT/Dataset/Images/\"+img_name+\".jpg\")\n",
        "    \n",
        "    #caption = predict_caption(photo_2048)\n",
        "    #print(caption)\n",
        "    \n",
        "   # plt.title(caption)\n",
        "   # plt.imshow(i)\n",
        "   # plt.axis(\"off\")\n",
        "  # plt.show()"
      ],
      "execution_count": 64,
      "outputs": []
    }
  ]
}